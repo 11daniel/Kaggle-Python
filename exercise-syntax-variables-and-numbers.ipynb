{
 "cells": [
  {
   "cell_type": "markdown",
   "id": "41955803",
   "metadata": {
    "papermill": {
     "duration": 0.012824,
     "end_time": "2023-12-06T10:00:17.103277",
     "exception": false,
     "start_time": "2023-12-06T10:00:17.090453",
     "status": "completed"
    },
    "tags": []
   },
   "source": [
    "**This notebook is an exercise in the [Python](https://www.kaggle.com/learn/python) course.  You can reference the tutorial at [this link](https://www.kaggle.com/colinmorris/hello-python).**\n",
    "\n",
    "---\n"
   ]
  },
  {
   "cell_type": "markdown",
   "id": "0bd894c7",
   "metadata": {
    "papermill": {
     "duration": 0.009289,
     "end_time": "2023-12-06T10:00:17.122581",
     "exception": false,
     "start_time": "2023-12-06T10:00:17.113292",
     "status": "completed"
    },
    "tags": []
   },
   "source": [
    "Welcome to your first set of Python coding problems.  If this is your first time using Kaggle Notebooks, welcome! \n",
    "\n",
    "Notebooks are composed of blocks (called \"cells\") of text and code. Each of these is editable, though you'll mainly be editing the code cells to answer some questions.\n",
    "\n",
    "To get started, try running the code cell below (by pressing the ► button, or clicking on the cell and pressing ctrl+enter on your keyboard)."
   ]
  },
  {
   "cell_type": "code",
   "execution_count": 1,
   "id": "3d3fb1f9",
   "metadata": {
    "execution": {
     "iopub.execute_input": "2023-12-06T10:00:17.146264Z",
     "iopub.status.busy": "2023-12-06T10:00:17.145055Z",
     "iopub.status.idle": "2023-12-06T10:00:17.163256Z",
     "shell.execute_reply": "2023-12-06T10:00:17.161909Z"
    },
    "papermill": {
     "duration": 0.034065,
     "end_time": "2023-12-06T10:00:17.166395",
     "exception": false,
     "start_time": "2023-12-06T10:00:17.132330",
     "status": "completed"
    },
    "tags": []
   },
   "outputs": [
    {
     "name": "stdout",
     "output_type": "stream",
     "text": [
      "You've successfully run some Python code\n",
      "Congratulations!\n"
     ]
    }
   ],
   "source": [
    "print(\"You've successfully run some Python code\")\n",
    "print(\"Congratulations!\")"
   ]
  },
  {
   "cell_type": "markdown",
   "id": "cdc7f47c",
   "metadata": {
    "papermill": {
     "duration": 0.009296,
     "end_time": "2023-12-06T10:00:17.186459",
     "exception": false,
     "start_time": "2023-12-06T10:00:17.177163",
     "status": "completed"
    },
    "tags": []
   },
   "source": [
    "Try adding another line of code in the cell above and re-running it. \n",
    "\n",
    "Now let's get a little fancier:  Add a new code cell by clicking on an existing code cell, hitting the escape key, and then hitting the `a` or `b` key.  The `a` key will add a cell above the current cell, and `b` adds a cell below.\n",
    "\n",
    "Great! Now you know how to use Notebooks.\n",
    "\n",
    "Each hands-on exercise starts by setting up our feedback and code checking mechanism. Run the code cell below to do that. Then you'll be ready to move on to question 0."
   ]
  },
  {
   "cell_type": "code",
   "execution_count": 2,
   "id": "ce05df04",
   "metadata": {
    "_kg_hide-input": true,
    "_kg_hide-output": true,
    "execution": {
     "iopub.execute_input": "2023-12-06T10:00:17.207897Z",
     "iopub.status.busy": "2023-12-06T10:00:17.207108Z",
     "iopub.status.idle": "2023-12-06T10:00:17.770513Z",
     "shell.execute_reply": "2023-12-06T10:00:17.769192Z"
    },
    "papermill": {
     "duration": 0.577544,
     "end_time": "2023-12-06T10:00:17.773674",
     "exception": false,
     "start_time": "2023-12-06T10:00:17.196130",
     "status": "completed"
    },
    "tags": []
   },
   "outputs": [
    {
     "name": "stdout",
     "output_type": "stream",
     "text": [
      "Setup complete! You're ready to start question 0.\n"
     ]
    }
   ],
   "source": [
    "from learntools.core import binder; binder.bind(globals())\n",
    "from learntools.python.ex1 import *\n",
    "print(\"Setup complete! You're ready to start question 0.\")"
   ]
  },
  {
   "cell_type": "markdown",
   "id": "cb6812b6",
   "metadata": {
    "papermill": {
     "duration": 0.009098,
     "end_time": "2023-12-06T10:00:17.792574",
     "exception": false,
     "start_time": "2023-12-06T10:00:17.783476",
     "status": "completed"
    },
    "tags": []
   },
   "source": [
    "# 0.\n",
    "\n",
    "*This is a silly question intended as an introduction to the format we use for hands-on exercises throughout all Kaggle courses.*\n",
    "\n",
    "**What is your favorite color? **\n",
    "\n",
    "To complete this question, create a variable called `color` in the cell below with an appropriate value. The function call `q0.check()` (which we've already provided in the cell below) will check your answer."
   ]
  },
  {
   "cell_type": "code",
   "execution_count": 3,
   "id": "1c3a1305",
   "metadata": {
    "execution": {
     "iopub.execute_input": "2023-12-06T10:00:17.815329Z",
     "iopub.status.busy": "2023-12-06T10:00:17.814632Z",
     "iopub.status.idle": "2023-12-06T10:00:17.825957Z",
     "shell.execute_reply": "2023-12-06T10:00:17.825083Z"
    },
    "papermill": {
     "duration": 0.025635,
     "end_time": "2023-12-06T10:00:17.828543",
     "exception": false,
     "start_time": "2023-12-06T10:00:17.802908",
     "status": "completed"
    },
    "tags": []
   },
   "outputs": [
    {
     "data": {
      "application/javascript": [
       "parent.postMessage({\"jupyterEvent\": \"custom.exercise_interaction\", \"data\": {\"outcomeType\": 1, \"valueTowardsCompletion\": 0.25, \"interactionType\": 1, \"questionType\": 2, \"questionId\": \"0_ExerciseFormatTutorial\", \"learnToolsVersion\": \"0.3.4\", \"failureMessage\": \"\", \"exceptionClass\": \"\", \"trace\": \"\"}}, \"*\")"
      ],
      "text/plain": [
       "<IPython.core.display.Javascript object>"
      ]
     },
     "metadata": {},
     "output_type": "display_data"
    },
    {
     "data": {
      "text/markdown": [
       "<span style=\"color:#33cc33\">Correct:</span> What?! You got it right without needing a hint or anything? Drats. Well hey, you should still continue to the next step to get some practice asking for a hint and checking solutions. (Even though you obviously don't need any help here.)"
      ],
      "text/plain": [
       "Correct: What?! You got it right without needing a hint or anything? Drats. Well hey, you should still continue to the next step to get some practice asking for a hint and checking solutions. (Even though you obviously don't need any help here.)"
      ]
     },
     "metadata": {},
     "output_type": "display_data"
    }
   ],
   "source": [
    "# create a variable called color with an appropriate value on the line below\n",
    "# (Remember, strings in Python must be enclosed in 'single' or \"double\" quotes)\n",
    "color = \"blue\"\n",
    "\n",
    "# Check your answer\n",
    "q0.check()"
   ]
  },
  {
   "cell_type": "markdown",
   "id": "5dc203b7",
   "metadata": {
    "papermill": {
     "duration": 0.011003,
     "end_time": "2023-12-06T10:00:17.849624",
     "exception": false,
     "start_time": "2023-12-06T10:00:17.838621",
     "status": "completed"
    },
    "tags": []
   },
   "source": [
    "Didn't get the right answer? How do you not even know your own favorite color?!\n",
    "\n",
    "Delete the `#` in the line below to make one of the lines run. You can choose between getting a hint or the full answer by choosing which line to remove the `#` from. \n",
    "\n",
    "Removing the `#` is called uncommenting, because it changes that line from a \"comment\" which Python doesn't run to code, which Python does run."
   ]
  },
  {
   "cell_type": "code",
   "execution_count": 4,
   "id": "f0abf9a4",
   "metadata": {
    "execution": {
     "iopub.execute_input": "2023-12-06T10:00:17.872146Z",
     "iopub.status.busy": "2023-12-06T10:00:17.871290Z",
     "iopub.status.idle": "2023-12-06T10:00:17.883392Z",
     "shell.execute_reply": "2023-12-06T10:00:17.882283Z"
    },
    "papermill": {
     "duration": 0.026342,
     "end_time": "2023-12-06T10:00:17.885990",
     "exception": false,
     "start_time": "2023-12-06T10:00:17.859648",
     "status": "completed"
    },
    "tags": []
   },
   "outputs": [
    {
     "data": {
      "application/javascript": [
       "parent.postMessage({\"jupyterEvent\": \"custom.exercise_interaction\", \"data\": {\"interactionType\": 2, \"questionType\": 2, \"questionId\": \"0_ExerciseFormatTutorial\", \"learnToolsVersion\": \"0.3.4\", \"valueTowardsCompletion\": 0.0, \"failureMessage\": \"\", \"exceptionClass\": \"\", \"trace\": \"\", \"outcomeType\": 4}}, \"*\")"
      ],
      "text/plain": [
       "<IPython.core.display.Javascript object>"
      ]
     },
     "metadata": {},
     "output_type": "display_data"
    },
    {
     "data": {
      "text/markdown": [
       "<span style=\"color:#3366cc\">Hint:</span> Your favorite color rhymes with *glue*."
      ],
      "text/plain": [
       "Hint: Your favorite color rhymes with *glue*."
      ]
     },
     "metadata": {},
     "output_type": "display_data"
    },
    {
     "data": {
      "application/javascript": [
       "parent.postMessage({\"jupyterEvent\": \"custom.exercise_interaction\", \"data\": {\"interactionType\": 3, \"questionType\": 2, \"questionId\": \"0_ExerciseFormatTutorial\", \"learnToolsVersion\": \"0.3.4\", \"valueTowardsCompletion\": 0.0, \"failureMessage\": \"\", \"exceptionClass\": \"\", \"trace\": \"\", \"outcomeType\": 4}}, \"*\")"
      ],
      "text/plain": [
       "<IPython.core.display.Javascript object>"
      ]
     },
     "metadata": {},
     "output_type": "display_data"
    },
    {
     "data": {
      "text/markdown": [
       "<span style=\"color:#33cc99\">Solution:</span> \n",
       "```python\n",
       "color = \"blue\"\n",
       "```"
      ],
      "text/plain": [
       "Solution: \n",
       "```python\n",
       "color = \"blue\"\n",
       "```"
      ]
     },
     "metadata": {},
     "output_type": "display_data"
    }
   ],
   "source": [
    "q0.hint()\n",
    "q0.solution()"
   ]
  },
  {
   "cell_type": "markdown",
   "id": "a6ce61a5",
   "metadata": {
    "papermill": {
     "duration": 0.010214,
     "end_time": "2023-12-06T10:00:17.906747",
     "exception": false,
     "start_time": "2023-12-06T10:00:17.896533",
     "status": "completed"
    },
    "tags": []
   },
   "source": [
    "The upcoming questions work the same way. The only thing that will change are the question numbers. For the next question, you'll call `q1.check()`, `q1.hint()`, `q1.solution()`, for question 2, you'll call `q2.check()`, and so on."
   ]
  },
  {
   "cell_type": "markdown",
   "id": "255e4a76",
   "metadata": {
    "papermill": {
     "duration": 0.010145,
     "end_time": "2023-12-06T10:00:17.927370",
     "exception": false,
     "start_time": "2023-12-06T10:00:17.917225",
     "status": "completed"
    },
    "tags": []
   },
   "source": [
    "<hr/>\n",
    "\n",
    "# 1.\n",
    "\n",
    "Complete the code below. In case it's helpful, here is the table of available arithmetic operations:\n",
    "\n",
    "\n",
    "\n",
    "| Operator     | Name           | Description                                            |\n",
    "|--------------|----------------|--------------------------------------------------------|\n",
    "| ``a + b``    | Addition       | Sum of ``a`` and ``b``                                 |\n",
    "| ``a - b``    | Subtraction    | Difference of ``a`` and ``b``                          |\n",
    "| ``a * b``    | Multiplication | Product of ``a`` and ``b``                             |\n",
    "| ``a / b``    | True division  | Quotient of ``a`` and ``b``                            |\n",
    "| ``a // b``   | Floor division | Quotient of ``a`` and ``b``, removing fractional parts |\n",
    "| ``a % b``    | Modulus        | Integer remainder after division of ``a`` by ``b``     |\n",
    "| ``a ** b``   | Exponentiation | ``a`` raised to the power of ``b``                     |\n",
    "| ``-a``       | Negation       | The negative of ``a``                                  |\n",
    "\n",
    "<span style=\"display:none\"></span>\n"
   ]
  },
  {
   "cell_type": "code",
   "execution_count": 5,
   "id": "f0f1f9db",
   "metadata": {
    "execution": {
     "iopub.execute_input": "2023-12-06T10:00:17.951129Z",
     "iopub.status.busy": "2023-12-06T10:00:17.950274Z",
     "iopub.status.idle": "2023-12-06T10:00:17.959525Z",
     "shell.execute_reply": "2023-12-06T10:00:17.958606Z"
    },
    "papermill": {
     "duration": 0.023755,
     "end_time": "2023-12-06T10:00:17.961708",
     "exception": false,
     "start_time": "2023-12-06T10:00:17.937953",
     "status": "completed"
    },
    "tags": []
   },
   "outputs": [
    {
     "data": {
      "application/javascript": [
       "parent.postMessage({\"jupyterEvent\": \"custom.exercise_interaction\", \"data\": {\"outcomeType\": 1, \"valueTowardsCompletion\": 0.25, \"interactionType\": 1, \"questionType\": 1, \"questionId\": \"1_CircleArea\", \"learnToolsVersion\": \"0.3.4\", \"failureMessage\": \"\", \"exceptionClass\": \"\", \"trace\": \"\"}}, \"*\")"
      ],
      "text/plain": [
       "<IPython.core.display.Javascript object>"
      ]
     },
     "metadata": {},
     "output_type": "display_data"
    },
    {
     "data": {
      "text/markdown": [
       "<span style=\"color:#33cc33\">Correct</span>"
      ],
      "text/plain": [
       "Correct"
      ]
     },
     "metadata": {},
     "output_type": "display_data"
    }
   ],
   "source": [
    "pi = 3.14159 # approximate\n",
    "diameter = 3\n",
    "\n",
    "# Create a variable called 'radius' equal to half the diameter\n",
    "radius = diameter / 2\n",
    "\n",
    "# Create a variable called 'area', using the formula for the area of a circle: pi times the radius squared\n",
    "area = pi * radius ** 2\n",
    "\n",
    "# Check your answer\n",
    "q1.check()"
   ]
  },
  {
   "cell_type": "code",
   "execution_count": 6,
   "id": "dec9299b",
   "metadata": {
    "execution": {
     "iopub.execute_input": "2023-12-06T10:00:17.986277Z",
     "iopub.status.busy": "2023-12-06T10:00:17.985753Z",
     "iopub.status.idle": "2023-12-06T10:00:17.999639Z",
     "shell.execute_reply": "2023-12-06T10:00:17.998459Z"
    },
    "papermill": {
     "duration": 0.029788,
     "end_time": "2023-12-06T10:00:18.002366",
     "exception": false,
     "start_time": "2023-12-06T10:00:17.972578",
     "status": "completed"
    },
    "tags": []
   },
   "outputs": [
    {
     "data": {
      "application/javascript": [
       "parent.postMessage({\"jupyterEvent\": \"custom.exercise_interaction\", \"data\": {\"interactionType\": 2, \"questionType\": 1, \"questionId\": \"1_CircleArea\", \"learnToolsVersion\": \"0.3.4\", \"valueTowardsCompletion\": 0.0, \"failureMessage\": \"\", \"exceptionClass\": \"\", \"trace\": \"\", \"outcomeType\": 4}}, \"*\")"
      ],
      "text/plain": [
       "<IPython.core.display.Javascript object>"
      ]
     },
     "metadata": {},
     "output_type": "display_data"
    },
    {
     "data": {
      "text/markdown": [
       "<span style=\"color:#3366cc\">Hint:</span> The syntax to raise a to the b'th power is `a ** b`"
      ],
      "text/plain": [
       "Hint: The syntax to raise a to the b'th power is `a ** b`"
      ]
     },
     "metadata": {},
     "output_type": "display_data"
    },
    {
     "data": {
      "application/javascript": [
       "parent.postMessage({\"jupyterEvent\": \"custom.exercise_interaction\", \"data\": {\"interactionType\": 3, \"questionType\": 1, \"questionId\": \"1_CircleArea\", \"learnToolsVersion\": \"0.3.4\", \"valueTowardsCompletion\": 0.0, \"failureMessage\": \"\", \"exceptionClass\": \"\", \"trace\": \"\", \"outcomeType\": 4}}, \"*\")"
      ],
      "text/plain": [
       "<IPython.core.display.Javascript object>"
      ]
     },
     "metadata": {},
     "output_type": "display_data"
    },
    {
     "data": {
      "text/markdown": [
       "<span style=\"color:#33cc99\">Solution:</span> \n",
       "```python\n",
       "radius = diameter / 2\n",
       "area = pi * radius ** 2\n",
       "```"
      ],
      "text/plain": [
       "Solution: \n",
       "```python\n",
       "radius = diameter / 2\n",
       "area = pi * radius ** 2\n",
       "```"
      ]
     },
     "metadata": {},
     "output_type": "display_data"
    }
   ],
   "source": [
    "# Uncomment and run the lines below if you need help.\n",
    "q1.hint()\n",
    "q1.solution()"
   ]
  },
  {
   "cell_type": "markdown",
   "id": "e9fca01f",
   "metadata": {
    "papermill": {
     "duration": 0.011764,
     "end_time": "2023-12-06T10:00:18.025771",
     "exception": false,
     "start_time": "2023-12-06T10:00:18.014007",
     "status": "completed"
    },
    "tags": []
   },
   "source": [
    "<hr/>\n",
    "\n",
    "# 2.\n",
    "\n",
    "Add code to the following cell to swap variables `a` and `b` (so that `a` refers to the object previously referred to by `b` and vice versa)."
   ]
  },
  {
   "cell_type": "code",
   "execution_count": 7,
   "id": "697b0bd2",
   "metadata": {
    "execution": {
     "iopub.execute_input": "2023-12-06T10:00:18.051978Z",
     "iopub.status.busy": "2023-12-06T10:00:18.050702Z",
     "iopub.status.idle": "2023-12-06T10:00:18.061189Z",
     "shell.execute_reply": "2023-12-06T10:00:18.060280Z"
    },
    "papermill": {
     "duration": 0.026084,
     "end_time": "2023-12-06T10:00:18.063596",
     "exception": false,
     "start_time": "2023-12-06T10:00:18.037512",
     "status": "completed"
    },
    "tags": []
   },
   "outputs": [
    {
     "data": {
      "application/javascript": [
       "parent.postMessage({\"jupyterEvent\": \"custom.exercise_interaction\", \"data\": {\"outcomeType\": 1, \"valueTowardsCompletion\": 0.25, \"interactionType\": 1, \"questionType\": 2, \"questionId\": \"2_VariableSwap\", \"learnToolsVersion\": \"0.3.4\", \"failureMessage\": \"\", \"exceptionClass\": \"\", \"trace\": \"\"}}, \"*\")"
      ],
      "text/plain": [
       "<IPython.core.display.Javascript object>"
      ]
     },
     "metadata": {},
     "output_type": "display_data"
    },
    {
     "data": {
      "text/markdown": [
       "<span style=\"color:#33cc33\">Correct:</span> \n",
       "\n",
       "The most straightforward solution is to use a third variable to temporarily store one of the old values. e.g.:\n",
       "\n",
       "    tmp = a\n",
       "    a = b\n",
       "    b = tmp\n",
       "\n",
       "If you've read lots of Python code, you might have seen the following trick to swap two variables in one line:\n",
       "\n",
       "    a, b = b, a\n",
       "\n",
       "We'll demystify this bit of Python magic later when we talk about *tuples*."
      ],
      "text/plain": [
       "Correct: \n",
       "\n",
       "The most straightforward solution is to use a third variable to temporarily store one of the old values. e.g.:\n",
       "\n",
       "    tmp = a\n",
       "    a = b\n",
       "    b = tmp\n",
       "\n",
       "If you've read lots of Python code, you might have seen the following trick to swap two variables in one line:\n",
       "\n",
       "    a, b = b, a\n",
       "\n",
       "We'll demystify this bit of Python magic later when we talk about *tuples*."
      ]
     },
     "metadata": {},
     "output_type": "display_data"
    }
   ],
   "source": [
    "########### Setup code - don't touch this part ######################\n",
    "# If you're curious, these are examples of lists. We'll talk about \n",
    "# them in depth a few lessons from now. For now, just know that they're\n",
    "# yet another type of Python object, like int or float.\n",
    "a = [1, 2, 3]\n",
    "b = [3, 2, 1]\n",
    "q2.store_original_ids()\n",
    "######################################################################\n",
    "\n",
    "# Your code goes here. Swap the values to which a and b refer.\n",
    "# If you get stuck, you can always uncomment one or both of the lines in\n",
    "# the next cell for a hint, or to peek at the solution.\n",
    "a, b = b, a\n",
    "######################################################################\n",
    "\n",
    "# Check your answer\n",
    "q2.check()"
   ]
  },
  {
   "cell_type": "code",
   "execution_count": 8,
   "id": "74b7e842",
   "metadata": {
    "execution": {
     "iopub.execute_input": "2023-12-06T10:00:18.090385Z",
     "iopub.status.busy": "2023-12-06T10:00:18.089550Z",
     "iopub.status.idle": "2023-12-06T10:00:18.098432Z",
     "shell.execute_reply": "2023-12-06T10:00:18.097269Z"
    },
    "papermill": {
     "duration": 0.02537,
     "end_time": "2023-12-06T10:00:18.100999",
     "exception": false,
     "start_time": "2023-12-06T10:00:18.075629",
     "status": "completed"
    },
    "tags": []
   },
   "outputs": [
    {
     "data": {
      "application/javascript": [
       "parent.postMessage({\"jupyterEvent\": \"custom.exercise_interaction\", \"data\": {\"interactionType\": 2, \"questionType\": 2, \"questionId\": \"2_VariableSwap\", \"learnToolsVersion\": \"0.3.4\", \"valueTowardsCompletion\": 0.0, \"failureMessage\": \"\", \"exceptionClass\": \"\", \"trace\": \"\", \"outcomeType\": 4}}, \"*\")"
      ],
      "text/plain": [
       "<IPython.core.display.Javascript object>"
      ]
     },
     "metadata": {},
     "output_type": "display_data"
    },
    {
     "data": {
      "text/markdown": [
       "<span style=\"color:#3366cc\">Hint:</span> Try using a third variable."
      ],
      "text/plain": [
       "Hint: Try using a third variable."
      ]
     },
     "metadata": {},
     "output_type": "display_data"
    }
   ],
   "source": [
    "q2.hint()"
   ]
  },
  {
   "cell_type": "code",
   "execution_count": 9,
   "id": "f29e0ea7",
   "metadata": {
    "execution": {
     "iopub.execute_input": "2023-12-06T10:00:18.127742Z",
     "iopub.status.busy": "2023-12-06T10:00:18.127242Z",
     "iopub.status.idle": "2023-12-06T10:00:18.137658Z",
     "shell.execute_reply": "2023-12-06T10:00:18.136452Z"
    },
    "papermill": {
     "duration": 0.027307,
     "end_time": "2023-12-06T10:00:18.140730",
     "exception": false,
     "start_time": "2023-12-06T10:00:18.113423",
     "status": "completed"
    },
    "tags": []
   },
   "outputs": [
    {
     "data": {
      "application/javascript": [
       "parent.postMessage({\"jupyterEvent\": \"custom.exercise_interaction\", \"data\": {\"interactionType\": 3, \"questionType\": 2, \"questionId\": \"2_VariableSwap\", \"learnToolsVersion\": \"0.3.4\", \"valueTowardsCompletion\": 0.0, \"failureMessage\": \"\", \"exceptionClass\": \"\", \"trace\": \"\", \"outcomeType\": 4}}, \"*\")"
      ],
      "text/plain": [
       "<IPython.core.display.Javascript object>"
      ]
     },
     "metadata": {},
     "output_type": "display_data"
    },
    {
     "data": {
      "text/markdown": [
       "<span style=\"color:#33cc99\">Solution:</span> The most straightforward solution is to use a third variable to temporarily store one of the old values. e.g.:\n",
       "\n",
       "    tmp = a\n",
       "    a = b\n",
       "    b = tmp\n",
       "\n",
       "If you've read lots of Python code, you might have seen the following trick to swap two variables in one line:\n",
       "\n",
       "    a, b = b, a\n",
       "\n",
       "We'll demystify this bit of Python magic later when we talk about *tuples*."
      ],
      "text/plain": [
       "Solution: The most straightforward solution is to use a third variable to temporarily store one of the old values. e.g.:\n",
       "\n",
       "    tmp = a\n",
       "    a = b\n",
       "    b = tmp\n",
       "\n",
       "If you've read lots of Python code, you might have seen the following trick to swap two variables in one line:\n",
       "\n",
       "    a, b = b, a\n",
       "\n",
       "We'll demystify this bit of Python magic later when we talk about *tuples*."
      ]
     },
     "metadata": {},
     "output_type": "display_data"
    }
   ],
   "source": [
    "q2.solution()"
   ]
  },
  {
   "cell_type": "markdown",
   "id": "a9e41bda",
   "metadata": {
    "papermill": {
     "duration": 0.013131,
     "end_time": "2023-12-06T10:00:18.167283",
     "exception": false,
     "start_time": "2023-12-06T10:00:18.154152",
     "status": "completed"
    },
    "tags": []
   },
   "source": [
    "<hr/>\n",
    "\n",
    "# 3a.\n",
    "\n",
    "Add parentheses to the following expression so that it evaluates to 1."
   ]
  },
  {
   "cell_type": "code",
   "execution_count": 10,
   "id": "174d5b14",
   "metadata": {
    "execution": {
     "iopub.execute_input": "2023-12-06T10:00:18.198069Z",
     "iopub.status.busy": "2023-12-06T10:00:18.196690Z",
     "iopub.status.idle": "2023-12-06T10:00:18.205361Z",
     "shell.execute_reply": "2023-12-06T10:00:18.204105Z"
    },
    "papermill": {
     "duration": 0.027334,
     "end_time": "2023-12-06T10:00:18.208294",
     "exception": false,
     "start_time": "2023-12-06T10:00:18.180960",
     "status": "completed"
    },
    "tags": []
   },
   "outputs": [
    {
     "data": {
      "text/plain": [
       "1"
      ]
     },
     "execution_count": 10,
     "metadata": {},
     "output_type": "execute_result"
    }
   ],
   "source": [
    "(5 - 3) // 2"
   ]
  },
  {
   "cell_type": "code",
   "execution_count": 11,
   "id": "450a5868",
   "metadata": {
    "execution": {
     "iopub.execute_input": "2023-12-06T10:00:18.237364Z",
     "iopub.status.busy": "2023-12-06T10:00:18.236905Z",
     "iopub.status.idle": "2023-12-06T10:00:18.247403Z",
     "shell.execute_reply": "2023-12-06T10:00:18.246305Z"
    },
    "papermill": {
     "duration": 0.02756,
     "end_time": "2023-12-06T10:00:18.249704",
     "exception": false,
     "start_time": "2023-12-06T10:00:18.222144",
     "status": "completed"
    },
    "tags": []
   },
   "outputs": [
    {
     "data": {
      "application/javascript": [
       "parent.postMessage({\"jupyterEvent\": \"custom.exercise_interaction\", \"data\": {\"interactionType\": 2, \"questionType\": 4, \"questionId\": \"3.1_ArithmeticParensEasy\", \"learnToolsVersion\": \"0.3.4\", \"valueTowardsCompletion\": 0.0, \"failureMessage\": \"\", \"exceptionClass\": \"\", \"trace\": \"\", \"outcomeType\": 4}}, \"*\")"
      ],
      "text/plain": [
       "<IPython.core.display.Javascript object>"
      ]
     },
     "metadata": {},
     "output_type": "display_data"
    },
    {
     "data": {
      "text/markdown": [
       "<span style=\"color:#3366cc\">Hint:</span> Following its default \"BEDMAS\"-like rules for order of operations, Python will first divide 3 by 2, then subtract the result from 5. You need to add parentheses to force it to perform the subtraction first."
      ],
      "text/plain": [
       "Hint: Following its default \"BEDMAS\"-like rules for order of operations, Python will first divide 3 by 2, then subtract the result from 5. You need to add parentheses to force it to perform the subtraction first."
      ]
     },
     "metadata": {},
     "output_type": "display_data"
    }
   ],
   "source": [
    "q3.a.hint()"
   ]
  },
  {
   "cell_type": "code",
   "execution_count": 12,
   "id": "e7f129bb",
   "metadata": {
    "execution": {
     "iopub.execute_input": "2023-12-06T10:00:18.278753Z",
     "iopub.status.busy": "2023-12-06T10:00:18.277983Z",
     "iopub.status.idle": "2023-12-06T10:00:18.285787Z",
     "shell.execute_reply": "2023-12-06T10:00:18.284975Z"
    },
    "papermill": {
     "duration": 0.025207,
     "end_time": "2023-12-06T10:00:18.288023",
     "exception": false,
     "start_time": "2023-12-06T10:00:18.262816",
     "status": "completed"
    },
    "tags": []
   },
   "outputs": [
    {
     "data": {
      "application/javascript": [
       "parent.postMessage({\"jupyterEvent\": \"custom.exercise_interaction\", \"data\": {\"interactionType\": 3, \"questionType\": 4, \"questionId\": \"3.1_ArithmeticParensEasy\", \"learnToolsVersion\": \"0.3.4\", \"valueTowardsCompletion\": 0.0, \"failureMessage\": \"\", \"exceptionClass\": \"\", \"trace\": \"\", \"outcomeType\": 4}}, \"*\")"
      ],
      "text/plain": [
       "<IPython.core.display.Javascript object>"
      ]
     },
     "metadata": {},
     "output_type": "display_data"
    },
    {
     "data": {
      "text/markdown": [
       "<span style=\"color:#33cc99\">Solution:</span> \n",
       "```python\n",
       "(5 - 3) // 2\n",
       "```"
      ],
      "text/plain": [
       "Solution: \n",
       "```python\n",
       "(5 - 3) // 2\n",
       "```"
      ]
     },
     "metadata": {},
     "output_type": "display_data"
    }
   ],
   "source": [
    "# Check your answer (Run this code cell to receive credit!)\n",
    "q3.a.solution()"
   ]
  },
  {
   "cell_type": "markdown",
   "id": "7176be30",
   "metadata": {
    "papermill": {
     "duration": 0.013285,
     "end_time": "2023-12-06T10:00:18.314864",
     "exception": false,
     "start_time": "2023-12-06T10:00:18.301579",
     "status": "completed"
    },
    "tags": []
   },
   "source": [
    "# 3b.  <span title=\"A bit spicy\" style=\"color: darkgreen \">🌶️</span>\n",
    "\n",
    "<small>Questions, like this one, marked a spicy pepper are a bit harder.</small>\n",
    "\n",
    "Add parentheses to the following expression so that it evaluates to 0."
   ]
  },
  {
   "cell_type": "code",
   "execution_count": 13,
   "id": "8ef649e6",
   "metadata": {
    "execution": {
     "iopub.execute_input": "2023-12-06T10:00:18.344643Z",
     "iopub.status.busy": "2023-12-06T10:00:18.344147Z",
     "iopub.status.idle": "2023-12-06T10:00:18.351334Z",
     "shell.execute_reply": "2023-12-06T10:00:18.350378Z"
    },
    "papermill": {
     "duration": 0.025263,
     "end_time": "2023-12-06T10:00:18.353640",
     "exception": false,
     "start_time": "2023-12-06T10:00:18.328377",
     "status": "completed"
    },
    "tags": []
   },
   "outputs": [
    {
     "data": {
      "text/plain": [
       "0"
      ]
     },
     "execution_count": 13,
     "metadata": {},
     "output_type": "execute_result"
    }
   ],
   "source": [
    "(8 - 3) * (2 - (1 + 1))"
   ]
  },
  {
   "cell_type": "code",
   "execution_count": 14,
   "id": "36882fdc",
   "metadata": {
    "execution": {
     "iopub.execute_input": "2023-12-06T10:00:18.384011Z",
     "iopub.status.busy": "2023-12-06T10:00:18.383200Z",
     "iopub.status.idle": "2023-12-06T10:00:18.392764Z",
     "shell.execute_reply": "2023-12-06T10:00:18.391925Z"
    },
    "papermill": {
     "duration": 0.028068,
     "end_time": "2023-12-06T10:00:18.395568",
     "exception": false,
     "start_time": "2023-12-06T10:00:18.367500",
     "status": "completed"
    },
    "tags": []
   },
   "outputs": [
    {
     "data": {
      "application/javascript": [
       "parent.postMessage({\"jupyterEvent\": \"custom.exercise_interaction\", \"data\": {\"interactionType\": 2, \"questionType\": 4, \"questionId\": \"3.2_ArithmeticParensHard\", \"learnToolsVersion\": \"0.3.4\", \"valueTowardsCompletion\": 0.0, \"failureMessage\": \"\", \"exceptionClass\": \"\", \"trace\": \"\", \"outcomeType\": 4}}, \"*\")"
      ],
      "text/plain": [
       "<IPython.core.display.Javascript object>"
      ]
     },
     "metadata": {},
     "output_type": "display_data"
    },
    {
     "data": {
      "text/markdown": [
       "<span style=\"color:#3366cc\">Hint:</span> You may need to use several pairs of parentheses."
      ],
      "text/plain": [
       "Hint: You may need to use several pairs of parentheses."
      ]
     },
     "metadata": {},
     "output_type": "display_data"
    }
   ],
   "source": [
    "q3.b.hint()"
   ]
  },
  {
   "cell_type": "code",
   "execution_count": 15,
   "id": "969d1b26",
   "metadata": {
    "execution": {
     "iopub.execute_input": "2023-12-06T10:00:18.428141Z",
     "iopub.status.busy": "2023-12-06T10:00:18.426866Z",
     "iopub.status.idle": "2023-12-06T10:00:18.437173Z",
     "shell.execute_reply": "2023-12-06T10:00:18.435943Z"
    },
    "papermill": {
     "duration": 0.029215,
     "end_time": "2023-12-06T10:00:18.439955",
     "exception": false,
     "start_time": "2023-12-06T10:00:18.410740",
     "status": "completed"
    },
    "tags": []
   },
   "outputs": [
    {
     "data": {
      "application/javascript": [
       "parent.postMessage({\"jupyterEvent\": \"custom.exercise_interaction\", \"data\": {\"interactionType\": 3, \"questionType\": 4, \"questionId\": \"3.2_ArithmeticParensHard\", \"learnToolsVersion\": \"0.3.4\", \"valueTowardsCompletion\": 0.0, \"failureMessage\": \"\", \"exceptionClass\": \"\", \"trace\": \"\", \"outcomeType\": 4}}, \"*\")"
      ],
      "text/plain": [
       "<IPython.core.display.Javascript object>"
      ]
     },
     "metadata": {},
     "output_type": "display_data"
    },
    {
     "data": {
      "text/markdown": [
       "<span style=\"color:#33cc99\">Solution:</span> `(8 - 3) * (2 - (1 + 1))` is one solution. There may be others."
      ],
      "text/plain": [
       "Solution: `(8 - 3) * (2 - (1 + 1))` is one solution. There may be others."
      ]
     },
     "metadata": {},
     "output_type": "display_data"
    }
   ],
   "source": [
    "# Check your answer (Run this code cell to receive credit!)\n",
    "q3.b.solution()"
   ]
  },
  {
   "cell_type": "markdown",
   "id": "9e935211",
   "metadata": {
    "papermill": {
     "duration": 0.014191,
     "end_time": "2023-12-06T10:00:18.468621",
     "exception": false,
     "start_time": "2023-12-06T10:00:18.454430",
     "status": "completed"
    },
    "tags": []
   },
   "source": [
    "<hr/>\n",
    "\n",
    "# 4. \n",
    "Alice, Bob and Carol have agreed to pool their Halloween candy and split it evenly among themselves.\n",
    "For the sake of their friendship, any candies left over will be smashed. For example, if they collectively\n",
    "bring home 91 candies, they'll take 30 each and smash 1.\n",
    "\n",
    "Write an arithmetic expression below to calculate how many candies they must smash for a given haul."
   ]
  },
  {
   "cell_type": "code",
   "execution_count": 16,
   "id": "b8d55bb5",
   "metadata": {
    "execution": {
     "iopub.execute_input": "2023-12-06T10:00:18.500166Z",
     "iopub.status.busy": "2023-12-06T10:00:18.499667Z",
     "iopub.status.idle": "2023-12-06T10:00:18.511153Z",
     "shell.execute_reply": "2023-12-06T10:00:18.509934Z"
    },
    "papermill": {
     "duration": 0.030375,
     "end_time": "2023-12-06T10:00:18.513658",
     "exception": false,
     "start_time": "2023-12-06T10:00:18.483283",
     "status": "completed"
    },
    "tags": []
   },
   "outputs": [
    {
     "data": {
      "application/javascript": [
       "parent.postMessage({\"jupyterEvent\": \"custom.exercise_interaction\", \"data\": {\"outcomeType\": 1, \"valueTowardsCompletion\": 0.25, \"interactionType\": 1, \"questionType\": 1, \"questionId\": \"4_CandySplitting\", \"learnToolsVersion\": \"0.3.4\", \"failureMessage\": \"\", \"exceptionClass\": \"\", \"trace\": \"\"}}, \"*\")"
      ],
      "text/plain": [
       "<IPython.core.display.Javascript object>"
      ]
     },
     "metadata": {},
     "output_type": "display_data"
    },
    {
     "data": {
      "text/markdown": [
       "<span style=\"color:#33cc33\">Correct</span>"
      ],
      "text/plain": [
       "Correct"
      ]
     },
     "metadata": {},
     "output_type": "display_data"
    }
   ],
   "source": [
    "# Variables representing the number of candies collected by alice, bob, and carol\n",
    "alice_candies = 121\n",
    "bob_candies = 77\n",
    "carol_candies = 109\n",
    "\n",
    "# Your code goes here! Replace the right-hand side of this assignment with an expression\n",
    "# involving alice_candies, bob_candies, and carol_candies\n",
    "to_smash = (alice_candies + bob_candies + carol_candies) % 3\n",
    "\n",
    "# Check your answer\n",
    "q4.check()"
   ]
  },
  {
   "cell_type": "code",
   "execution_count": 17,
   "id": "fc84dafe",
   "metadata": {
    "execution": {
     "iopub.execute_input": "2023-12-06T10:00:18.546363Z",
     "iopub.status.busy": "2023-12-06T10:00:18.545581Z",
     "iopub.status.idle": "2023-12-06T10:00:18.559457Z",
     "shell.execute_reply": "2023-12-06T10:00:18.558588Z"
    },
    "papermill": {
     "duration": 0.032848,
     "end_time": "2023-12-06T10:00:18.561874",
     "exception": false,
     "start_time": "2023-12-06T10:00:18.529026",
     "status": "completed"
    },
    "tags": []
   },
   "outputs": [
    {
     "data": {
      "application/javascript": [
       "parent.postMessage({\"jupyterEvent\": \"custom.exercise_interaction\", \"data\": {\"interactionType\": 2, \"questionType\": 1, \"questionId\": \"4_CandySplitting\", \"learnToolsVersion\": \"0.3.4\", \"valueTowardsCompletion\": 0.0, \"failureMessage\": \"\", \"exceptionClass\": \"\", \"trace\": \"\", \"outcomeType\": 4}}, \"*\")"
      ],
      "text/plain": [
       "<IPython.core.display.Javascript object>"
      ]
     },
     "metadata": {},
     "output_type": "display_data"
    },
    {
     "data": {
      "text/markdown": [
       "<span style=\"color:#3366cc\">Hint 1:</span> You'll probably want to use the modulo operator, `%`.\n",
       "(For another hint, call `.hint(2)`)"
      ],
      "text/plain": [
       "Hint 1: You'll probably want to use the modulo operator, `%`.\n",
       "(For another hint, call `.hint(2)`)"
      ]
     },
     "metadata": {},
     "output_type": "display_data"
    },
    {
     "data": {
      "application/javascript": [
       "parent.postMessage({\"jupyterEvent\": \"custom.exercise_interaction\", \"data\": {\"interactionType\": 3, \"questionType\": 1, \"questionId\": \"4_CandySplitting\", \"learnToolsVersion\": \"0.3.4\", \"valueTowardsCompletion\": 0.0, \"failureMessage\": \"\", \"exceptionClass\": \"\", \"trace\": \"\", \"outcomeType\": 4}}, \"*\")"
      ],
      "text/plain": [
       "<IPython.core.display.Javascript object>"
      ]
     },
     "metadata": {},
     "output_type": "display_data"
    },
    {
     "data": {
      "text/markdown": [
       "<span style=\"color:#33cc99\">Solution:</span> \n",
       "```python\n",
       "(alice_candies + bob_candies + carol_candies) % 3\n",
       "```"
      ],
      "text/plain": [
       "Solution: \n",
       "```python\n",
       "(alice_candies + bob_candies + carol_candies) % 3\n",
       "```"
      ]
     },
     "metadata": {},
     "output_type": "display_data"
    }
   ],
   "source": [
    "q4.hint()\n",
    "q4.solution()"
   ]
  },
  {
   "cell_type": "markdown",
   "id": "29c093e0",
   "metadata": {
    "papermill": {
     "duration": 0.109088,
     "end_time": "2023-12-06T10:00:18.686525",
     "exception": false,
     "start_time": "2023-12-06T10:00:18.577437",
     "status": "completed"
    },
    "tags": []
   },
   "source": [
    "# Keep Going\n",
    "\n",
    "Next up, you'll **[learn to write new functions and understand functions others write](https://www.kaggle.com/colinmorris/functions-and-getting-help)**. This will make you at least 10 times more productive as a Python programmer. "
   ]
  },
  {
   "cell_type": "markdown",
   "id": "edca3273",
   "metadata": {
    "papermill": {
     "duration": 0.015313,
     "end_time": "2023-12-06T10:00:18.718060",
     "exception": false,
     "start_time": "2023-12-06T10:00:18.702747",
     "status": "completed"
    },
    "tags": []
   },
   "source": [
    "---\n",
    "\n",
    "\n",
    "\n",
    "\n",
    "*Have questions or comments? Visit the [course discussion forum](https://www.kaggle.com/learn/python/discussion) to chat with other learners.*"
   ]
  }
 ],
 "metadata": {
  "kaggle": {
   "accelerator": "none",
   "dataSources": [],
   "isGpuEnabled": false,
   "isInternetEnabled": false,
   "language": "python",
   "sourceType": "notebook"
  },
  "kernelspec": {
   "display_name": "Python 3",
   "language": "python",
   "name": "python3"
  },
  "language_info": {
   "codemirror_mode": {
    "name": "ipython",
    "version": 3
   },
   "file_extension": ".py",
   "mimetype": "text/x-python",
   "name": "python",
   "nbconvert_exporter": "python",
   "pygments_lexer": "ipython3",
   "version": "3.10.12"
  },
  "learntools_metadata": {
   "lesson_index": 0,
   "type": "exercise"
  },
  "papermill": {
   "default_parameters": {},
   "duration": 6.196656,
   "end_time": "2023-12-06T10:00:19.457424",
   "environment_variables": {},
   "exception": null,
   "input_path": "__notebook__.ipynb",
   "output_path": "__notebook__.ipynb",
   "parameters": {},
   "start_time": "2023-12-06T10:00:13.260768",
   "version": "2.4.0"
  }
 },
 "nbformat": 4,
 "nbformat_minor": 5
}
