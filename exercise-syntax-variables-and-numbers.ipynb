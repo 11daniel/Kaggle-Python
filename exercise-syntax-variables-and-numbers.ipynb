{
 "cells": [
  {
   "cell_type": "markdown",
   "id": "86b18162",
   "metadata": {
    "papermill": {
     "duration": 0.00594,
     "end_time": "2023-07-17T03:49:57.064014",
     "exception": false,
     "start_time": "2023-07-17T03:49:57.058074",
     "status": "completed"
    },
    "tags": []
   },
   "source": [
    "**This notebook is an exercise in the [Python](https://www.kaggle.com/learn/python) course.  You can reference the tutorial at [this link](https://www.kaggle.com/colinmorris/hello-python).**\n",
    "\n",
    "---\n"
   ]
  },
  {
   "cell_type": "markdown",
   "id": "69538f8e",
   "metadata": {
    "papermill": {
     "duration": 0.005477,
     "end_time": "2023-07-17T03:49:57.075150",
     "exception": false,
     "start_time": "2023-07-17T03:49:57.069673",
     "status": "completed"
    },
    "tags": []
   },
   "source": [
    "Welcome to your first set of Python coding problems.  If this is your first time using Kaggle Notebooks, welcome! \n",
    "\n",
    "Notebooks are composed of blocks (called \"cells\") of text and code. Each of these is editable, though you'll mainly be editing the code cells to answer some questions.\n",
    "\n",
    "To get started, try running the code cell below (by pressing the ► button, or clicking on the cell and pressing ctrl+enter on your keyboard)."
   ]
  },
  {
   "cell_type": "code",
   "execution_count": 1,
   "id": "0a0dc5d5",
   "metadata": {
    "execution": {
     "iopub.execute_input": "2023-07-17T03:49:57.087634Z",
     "iopub.status.busy": "2023-07-17T03:49:57.087223Z",
     "iopub.status.idle": "2023-07-17T03:49:57.097873Z",
     "shell.execute_reply": "2023-07-17T03:49:57.096734Z"
    },
    "papermill": {
     "duration": 0.019442,
     "end_time": "2023-07-17T03:49:57.100044",
     "exception": false,
     "start_time": "2023-07-17T03:49:57.080602",
     "status": "completed"
    },
    "tags": []
   },
   "outputs": [
    {
     "name": "stdout",
     "output_type": "stream",
     "text": [
      "You've successfully run some Python code\n",
      "Congratulations!\n"
     ]
    }
   ],
   "source": [
    "print(\"You've successfully run some Python code\")\n",
    "print(\"Congratulations!\")"
   ]
  },
  {
   "cell_type": "markdown",
   "id": "1002c03c",
   "metadata": {
    "papermill": {
     "duration": 0.005292,
     "end_time": "2023-07-17T03:49:57.110980",
     "exception": false,
     "start_time": "2023-07-17T03:49:57.105688",
     "status": "completed"
    },
    "tags": []
   },
   "source": [
    "Try adding another line of code in the cell above and re-running it. \n",
    "\n",
    "Now let's get a little fancier:  Add a new code cell by clicking on an existing code cell, hitting the escape key, and then hitting the `a` or `b` key.  The `a` key will add a cell above the current cell, and `b` adds a cell below.\n",
    "\n",
    "Great! Now you know how to use Notebooks.\n",
    "\n",
    "Each hands-on exercise starts by setting up our feedback and code checking mechanism. Run the code cell below to do that. Then you'll be ready to move on to question 0."
   ]
  },
  {
   "cell_type": "code",
   "execution_count": 2,
   "id": "70765c75",
   "metadata": {
    "_kg_hide-input": true,
    "_kg_hide-output": true,
    "execution": {
     "iopub.execute_input": "2023-07-17T03:49:57.124400Z",
     "iopub.status.busy": "2023-07-17T03:49:57.123464Z",
     "iopub.status.idle": "2023-07-17T03:49:57.161738Z",
     "shell.execute_reply": "2023-07-17T03:49:57.160644Z"
    },
    "papermill": {
     "duration": 0.047765,
     "end_time": "2023-07-17T03:49:57.164264",
     "exception": false,
     "start_time": "2023-07-17T03:49:57.116499",
     "status": "completed"
    },
    "tags": []
   },
   "outputs": [
    {
     "name": "stdout",
     "output_type": "stream",
     "text": [
      "Setup complete! You're ready to start question 0.\n"
     ]
    }
   ],
   "source": [
    "from learntools.core import binder; binder.bind(globals())\n",
    "from learntools.python.ex1 import *\n",
    "print(\"Setup complete! You're ready to start question 0.\")"
   ]
  },
  {
   "cell_type": "markdown",
   "id": "72a1f69c",
   "metadata": {
    "papermill": {
     "duration": 0.005375,
     "end_time": "2023-07-17T03:49:57.175397",
     "exception": false,
     "start_time": "2023-07-17T03:49:57.170022",
     "status": "completed"
    },
    "tags": []
   },
   "source": [
    "# 0.\n",
    "\n",
    "*This is a silly question intended as an introduction to the format we use for hands-on exercises throughout all Kaggle courses.*\n",
    "\n",
    "**What is your favorite color? **\n",
    "\n",
    "To complete this question, create a variable called `color` in the cell below with an appropriate value. The function call `q0.check()` (which we've already provided in the cell below) will check your answer."
   ]
  },
  {
   "cell_type": "code",
   "execution_count": 3,
   "id": "f5487d70",
   "metadata": {
    "execution": {
     "iopub.execute_input": "2023-07-17T03:49:57.188148Z",
     "iopub.status.busy": "2023-07-17T03:49:57.187765Z",
     "iopub.status.idle": "2023-07-17T03:49:57.196897Z",
     "shell.execute_reply": "2023-07-17T03:49:57.195853Z"
    },
    "papermill": {
     "duration": 0.018088,
     "end_time": "2023-07-17T03:49:57.199113",
     "exception": false,
     "start_time": "2023-07-17T03:49:57.181025",
     "status": "completed"
    },
    "tags": []
   },
   "outputs": [
    {
     "data": {
      "application/javascript": [
       "parent.postMessage({\"jupyterEvent\": \"custom.exercise_interaction\", \"data\": {\"outcomeType\": 1, \"valueTowardsCompletion\": 0.25, \"interactionType\": 1, \"questionType\": 2, \"questionId\": \"0_ExerciseFormatTutorial\", \"learnToolsVersion\": \"0.3.4\", \"failureMessage\": \"\", \"exceptionClass\": \"\", \"trace\": \"\"}}, \"*\")"
      ],
      "text/plain": [
       "<IPython.core.display.Javascript object>"
      ]
     },
     "metadata": {},
     "output_type": "display_data"
    },
    {
     "data": {
      "text/markdown": [
       "<span style=\"color:#33cc33\">Correct:</span> What?! You got it right without needing a hint or anything? Drats. Well hey, you should still continue to the next step to get some practice asking for a hint and checking solutions. (Even though you obviously don't need any help here.)"
      ],
      "text/plain": [
       "Correct: What?! You got it right without needing a hint or anything? Drats. Well hey, you should still continue to the next step to get some practice asking for a hint and checking solutions. (Even though you obviously don't need any help here.)"
      ]
     },
     "metadata": {},
     "output_type": "display_data"
    }
   ],
   "source": [
    "# create a variable called color with an appropriate value on the line below\n",
    "# (Remember, strings in Python must be enclosed in 'single' or \"double\" quotes)\n",
    "color = 'blue'\n",
    "\n",
    "# Check your answer\n",
    "q0.check()"
   ]
  },
  {
   "cell_type": "markdown",
   "id": "dbd1301e",
   "metadata": {
    "papermill": {
     "duration": 0.007245,
     "end_time": "2023-07-17T03:49:57.212457",
     "exception": false,
     "start_time": "2023-07-17T03:49:57.205212",
     "status": "completed"
    },
    "tags": []
   },
   "source": [
    "Didn't get the right answer? How do you not even know your own favorite color?!\n",
    "\n",
    "Delete the `#` in the line below to make one of the lines run. You can choose between getting a hint or the full answer by choosing which line to remove the `#` from. \n",
    "\n",
    "Removing the `#` is called uncommenting, because it changes that line from a \"comment\" which Python doesn't run to code, which Python does run."
   ]
  },
  {
   "cell_type": "code",
   "execution_count": 4,
   "id": "b2061f17",
   "metadata": {
    "execution": {
     "iopub.execute_input": "2023-07-17T03:49:57.226026Z",
     "iopub.status.busy": "2023-07-17T03:49:57.225641Z",
     "iopub.status.idle": "2023-07-17T03:49:57.229859Z",
     "shell.execute_reply": "2023-07-17T03:49:57.228826Z"
    },
    "papermill": {
     "duration": 0.013456,
     "end_time": "2023-07-17T03:49:57.231958",
     "exception": false,
     "start_time": "2023-07-17T03:49:57.218502",
     "status": "completed"
    },
    "tags": []
   },
   "outputs": [],
   "source": [
    "#q0.hint()\n",
    "#q0.solution()"
   ]
  },
  {
   "cell_type": "markdown",
   "id": "2dbd36dc",
   "metadata": {
    "papermill": {
     "duration": 0.00578,
     "end_time": "2023-07-17T03:49:57.243847",
     "exception": false,
     "start_time": "2023-07-17T03:49:57.238067",
     "status": "completed"
    },
    "tags": []
   },
   "source": [
    "The upcoming questions work the same way. The only thing that will change are the question numbers. For the next question, you'll call `q1.check()`, `q1.hint()`, `q1.solution()`, for question 2, you'll call `q2.check()`, and so on."
   ]
  },
  {
   "cell_type": "markdown",
   "id": "49c7e72c",
   "metadata": {
    "papermill": {
     "duration": 0.005862,
     "end_time": "2023-07-17T03:49:57.255701",
     "exception": false,
     "start_time": "2023-07-17T03:49:57.249839",
     "status": "completed"
    },
    "tags": []
   },
   "source": [
    "<hr/>\n",
    "\n",
    "# 1.\n",
    "\n",
    "Complete the code below. In case it's helpful, here is the table of available arithmetic operations:\n",
    "\n",
    "\n",
    "\n",
    "| Operator     | Name           | Description                                            |\n",
    "|--------------|----------------|--------------------------------------------------------|\n",
    "| ``a + b``    | Addition       | Sum of ``a`` and ``b``                                 |\n",
    "| ``a - b``    | Subtraction    | Difference of ``a`` and ``b``                          |\n",
    "| ``a * b``    | Multiplication | Product of ``a`` and ``b``                             |\n",
    "| ``a / b``    | True division  | Quotient of ``a`` and ``b``                            |\n",
    "| ``a // b``   | Floor division | Quotient of ``a`` and ``b``, removing fractional parts |\n",
    "| ``a % b``    | Modulus        | Integer remainder after division of ``a`` by ``b``     |\n",
    "| ``a ** b``   | Exponentiation | ``a`` raised to the power of ``b``                     |\n",
    "| ``-a``       | Negation       | The negative of ``a``                                  |\n",
    "\n",
    "<span style=\"display:none\"></span>\n"
   ]
  },
  {
   "cell_type": "code",
   "execution_count": 5,
   "id": "45951598",
   "metadata": {
    "execution": {
     "iopub.execute_input": "2023-07-17T03:49:57.270290Z",
     "iopub.status.busy": "2023-07-17T03:49:57.269883Z",
     "iopub.status.idle": "2023-07-17T03:49:57.279088Z",
     "shell.execute_reply": "2023-07-17T03:49:57.277955Z"
    },
    "papermill": {
     "duration": 0.018641,
     "end_time": "2023-07-17T03:49:57.281233",
     "exception": false,
     "start_time": "2023-07-17T03:49:57.262592",
     "status": "completed"
    },
    "tags": []
   },
   "outputs": [
    {
     "data": {
      "application/javascript": [
       "parent.postMessage({\"jupyterEvent\": \"custom.exercise_interaction\", \"data\": {\"outcomeType\": 1, \"valueTowardsCompletion\": 0.25, \"interactionType\": 1, \"questionType\": 1, \"questionId\": \"1_CircleArea\", \"learnToolsVersion\": \"0.3.4\", \"failureMessage\": \"\", \"exceptionClass\": \"\", \"trace\": \"\"}}, \"*\")"
      ],
      "text/plain": [
       "<IPython.core.display.Javascript object>"
      ]
     },
     "metadata": {},
     "output_type": "display_data"
    },
    {
     "data": {
      "text/markdown": [
       "<span style=\"color:#33cc33\">Correct</span>"
      ],
      "text/plain": [
       "Correct"
      ]
     },
     "metadata": {},
     "output_type": "display_data"
    }
   ],
   "source": [
    "pi = 3.14159 # approximate\n",
    "diameter = 3\n",
    "\n",
    "# Create a variable called 'radius' equal to half the diameter\n",
    "radius = diameter / 2\n",
    "\n",
    "# Create a variable called 'area', using the formula for the area of a circle: pi times the radius squared\n",
    "area = pi * radius ** 2\n",
    "\n",
    "# Check your answer\n",
    "q1.check()"
   ]
  },
  {
   "cell_type": "code",
   "execution_count": 6,
   "id": "d422a569",
   "metadata": {
    "execution": {
     "iopub.execute_input": "2023-07-17T03:49:57.296602Z",
     "iopub.status.busy": "2023-07-17T03:49:57.295404Z",
     "iopub.status.idle": "2023-07-17T03:49:57.300094Z",
     "shell.execute_reply": "2023-07-17T03:49:57.299159Z"
    },
    "papermill": {
     "duration": 0.014461,
     "end_time": "2023-07-17T03:49:57.302062",
     "exception": false,
     "start_time": "2023-07-17T03:49:57.287601",
     "status": "completed"
    },
    "tags": []
   },
   "outputs": [],
   "source": [
    "# Uncomment and run the lines below if you need help.\n",
    "#q1.hint()\n",
    "#q1.solution()"
   ]
  },
  {
   "cell_type": "markdown",
   "id": "7d37ffb2",
   "metadata": {
    "papermill": {
     "duration": 0.00604,
     "end_time": "2023-07-17T03:49:57.314451",
     "exception": false,
     "start_time": "2023-07-17T03:49:57.308411",
     "status": "completed"
    },
    "tags": []
   },
   "source": [
    "<hr/>\n",
    "\n",
    "# 2.\n",
    "\n",
    "Add code to the following cell to swap variables `a` and `b` (so that `a` refers to the object previously referred to by `b` and vice versa)."
   ]
  },
  {
   "cell_type": "code",
   "execution_count": 7,
   "id": "f20b86bd",
   "metadata": {
    "execution": {
     "iopub.execute_input": "2023-07-17T03:49:57.328756Z",
     "iopub.status.busy": "2023-07-17T03:49:57.328269Z",
     "iopub.status.idle": "2023-07-17T03:49:57.337450Z",
     "shell.execute_reply": "2023-07-17T03:49:57.336682Z"
    },
    "papermill": {
     "duration": 0.018587,
     "end_time": "2023-07-17T03:49:57.339269",
     "exception": false,
     "start_time": "2023-07-17T03:49:57.320682",
     "status": "completed"
    },
    "tags": []
   },
   "outputs": [
    {
     "data": {
      "application/javascript": [
       "parent.postMessage({\"jupyterEvent\": \"custom.exercise_interaction\", \"data\": {\"outcomeType\": 1, \"valueTowardsCompletion\": 0.25, \"interactionType\": 1, \"questionType\": 2, \"questionId\": \"2_VariableSwap\", \"learnToolsVersion\": \"0.3.4\", \"failureMessage\": \"\", \"exceptionClass\": \"\", \"trace\": \"\"}}, \"*\")"
      ],
      "text/plain": [
       "<IPython.core.display.Javascript object>"
      ]
     },
     "metadata": {},
     "output_type": "display_data"
    },
    {
     "data": {
      "text/markdown": [
       "<span style=\"color:#33cc33\">Correct:</span> \n",
       "\n",
       "The most straightforward solution is to use a third variable to temporarily store one of the old values. e.g.:\n",
       "\n",
       "    tmp = a\n",
       "    a = b\n",
       "    b = tmp\n",
       "\n",
       "If you've read lots of Python code, you might have seen the following trick to swap two variables in one line:\n",
       "\n",
       "    a, b = b, a\n",
       "\n",
       "We'll demystify this bit of Python magic later when we talk about *tuples*."
      ],
      "text/plain": [
       "Correct: \n",
       "\n",
       "The most straightforward solution is to use a third variable to temporarily store one of the old values. e.g.:\n",
       "\n",
       "    tmp = a\n",
       "    a = b\n",
       "    b = tmp\n",
       "\n",
       "If you've read lots of Python code, you might have seen the following trick to swap two variables in one line:\n",
       "\n",
       "    a, b = b, a\n",
       "\n",
       "We'll demystify this bit of Python magic later when we talk about *tuples*."
      ]
     },
     "metadata": {},
     "output_type": "display_data"
    }
   ],
   "source": [
    "########### Setup code - don't touch this part ######################\n",
    "# If you're curious, these are examples of lists. We'll talk about \n",
    "# them in depth a few lessons from now. For now, just know that they're\n",
    "# yet another type of Python object, like int or float.\n",
    "a = [1, 2, 3]\n",
    "b = [3, 2, 1]\n",
    "q2.store_original_ids()\n",
    "######################################################################\n",
    "\n",
    "# Your code goes here. Swap the values to which a and b refer.\n",
    "# If you get stuck, you can always uncomment one or both of the lines in\n",
    "# the next cell for a hint, or to peek at the solution.\n",
    "\n",
    "a, b = b, a\n",
    "\n",
    "######################################################################\n",
    "\n",
    "# Check your answer\n",
    "q2.check()"
   ]
  },
  {
   "cell_type": "code",
   "execution_count": 8,
   "id": "43414c3d",
   "metadata": {
    "execution": {
     "iopub.execute_input": "2023-07-17T03:49:57.354086Z",
     "iopub.status.busy": "2023-07-17T03:49:57.353733Z",
     "iopub.status.idle": "2023-07-17T03:49:57.357466Z",
     "shell.execute_reply": "2023-07-17T03:49:57.356529Z"
    },
    "papermill": {
     "duration": 0.013709,
     "end_time": "2023-07-17T03:49:57.359588",
     "exception": false,
     "start_time": "2023-07-17T03:49:57.345879",
     "status": "completed"
    },
    "tags": []
   },
   "outputs": [],
   "source": [
    "#q2.hint()"
   ]
  },
  {
   "cell_type": "code",
   "execution_count": 9,
   "id": "f135fb00",
   "metadata": {
    "execution": {
     "iopub.execute_input": "2023-07-17T03:49:57.374584Z",
     "iopub.status.busy": "2023-07-17T03:49:57.374186Z",
     "iopub.status.idle": "2023-07-17T03:49:57.378499Z",
     "shell.execute_reply": "2023-07-17T03:49:57.377461Z"
    },
    "papermill": {
     "duration": 0.01439,
     "end_time": "2023-07-17T03:49:57.380621",
     "exception": false,
     "start_time": "2023-07-17T03:49:57.366231",
     "status": "completed"
    },
    "tags": []
   },
   "outputs": [],
   "source": [
    "#q2.solution()"
   ]
  },
  {
   "cell_type": "markdown",
   "id": "73447424",
   "metadata": {
    "papermill": {
     "duration": 0.006411,
     "end_time": "2023-07-17T03:49:57.393767",
     "exception": false,
     "start_time": "2023-07-17T03:49:57.387356",
     "status": "completed"
    },
    "tags": []
   },
   "source": [
    "<hr/>\n",
    "\n",
    "# 3a.\n",
    "\n",
    "Add parentheses to the following expression so that it evaluates to 1."
   ]
  },
  {
   "cell_type": "code",
   "execution_count": 10,
   "id": "f22a6b63",
   "metadata": {
    "execution": {
     "iopub.execute_input": "2023-07-17T03:49:57.409279Z",
     "iopub.status.busy": "2023-07-17T03:49:57.408302Z",
     "iopub.status.idle": "2023-07-17T03:49:57.415391Z",
     "shell.execute_reply": "2023-07-17T03:49:57.414275Z"
    },
    "papermill": {
     "duration": 0.017294,
     "end_time": "2023-07-17T03:49:57.417643",
     "exception": false,
     "start_time": "2023-07-17T03:49:57.400349",
     "status": "completed"
    },
    "tags": []
   },
   "outputs": [
    {
     "data": {
      "text/plain": [
       "1"
      ]
     },
     "execution_count": 10,
     "metadata": {},
     "output_type": "execute_result"
    }
   ],
   "source": [
    "(5 - 3) // 2"
   ]
  },
  {
   "cell_type": "code",
   "execution_count": 11,
   "id": "33af1e4a",
   "metadata": {
    "execution": {
     "iopub.execute_input": "2023-07-17T03:49:57.432807Z",
     "iopub.status.busy": "2023-07-17T03:49:57.432390Z",
     "iopub.status.idle": "2023-07-17T03:49:57.436854Z",
     "shell.execute_reply": "2023-07-17T03:49:57.435804Z"
    },
    "papermill": {
     "duration": 0.014368,
     "end_time": "2023-07-17T03:49:57.438885",
     "exception": false,
     "start_time": "2023-07-17T03:49:57.424517",
     "status": "completed"
    },
    "tags": []
   },
   "outputs": [],
   "source": [
    "#q3.a.hint()"
   ]
  },
  {
   "cell_type": "code",
   "execution_count": 12,
   "id": "c542aae5",
   "metadata": {
    "execution": {
     "iopub.execute_input": "2023-07-17T03:49:57.454564Z",
     "iopub.status.busy": "2023-07-17T03:49:57.454190Z",
     "iopub.status.idle": "2023-07-17T03:49:57.462548Z",
     "shell.execute_reply": "2023-07-17T03:49:57.461561Z"
    },
    "papermill": {
     "duration": 0.018866,
     "end_time": "2023-07-17T03:49:57.464740",
     "exception": false,
     "start_time": "2023-07-17T03:49:57.445874",
     "status": "completed"
    },
    "tags": []
   },
   "outputs": [
    {
     "data": {
      "application/javascript": [
       "parent.postMessage({\"jupyterEvent\": \"custom.exercise_interaction\", \"data\": {\"interactionType\": 3, \"questionType\": 4, \"questionId\": \"3.1_ArithmeticParensEasy\", \"learnToolsVersion\": \"0.3.4\", \"valueTowardsCompletion\": 0.0, \"failureMessage\": \"\", \"exceptionClass\": \"\", \"trace\": \"\", \"outcomeType\": 4}}, \"*\")"
      ],
      "text/plain": [
       "<IPython.core.display.Javascript object>"
      ]
     },
     "metadata": {},
     "output_type": "display_data"
    },
    {
     "data": {
      "text/markdown": [
       "<span style=\"color:#33cc99\">Solution:</span> \n",
       "```python\n",
       "(5 - 3) // 2\n",
       "```"
      ],
      "text/plain": [
       "Solution: \n",
       "```python\n",
       "(5 - 3) // 2\n",
       "```"
      ]
     },
     "metadata": {},
     "output_type": "display_data"
    }
   ],
   "source": [
    "# Check your answer (Run this code cell to receive credit!)\n",
    "q3.a.solution()"
   ]
  },
  {
   "cell_type": "markdown",
   "id": "af9fe8a1",
   "metadata": {
    "papermill": {
     "duration": 0.007006,
     "end_time": "2023-07-17T03:49:57.479002",
     "exception": false,
     "start_time": "2023-07-17T03:49:57.471996",
     "status": "completed"
    },
    "tags": []
   },
   "source": [
    "# 3b.  <span title=\"A bit spicy\" style=\"color: darkgreen \">🌶️</span>\n",
    "\n",
    "<small>Questions, like this one, marked a spicy pepper are a bit harder.</small>\n",
    "\n",
    "Add parentheses to the following expression so that it evaluates to 0."
   ]
  },
  {
   "cell_type": "code",
   "execution_count": 13,
   "id": "df4182f8",
   "metadata": {
    "execution": {
     "iopub.execute_input": "2023-07-17T03:49:57.495060Z",
     "iopub.status.busy": "2023-07-17T03:49:57.494705Z",
     "iopub.status.idle": "2023-07-17T03:49:57.501289Z",
     "shell.execute_reply": "2023-07-17T03:49:57.500304Z"
    },
    "papermill": {
     "duration": 0.017234,
     "end_time": "2023-07-17T03:49:57.503361",
     "exception": false,
     "start_time": "2023-07-17T03:49:57.486127",
     "status": "completed"
    },
    "tags": []
   },
   "outputs": [
    {
     "data": {
      "text/plain": [
       "0"
      ]
     },
     "execution_count": 13,
     "metadata": {},
     "output_type": "execute_result"
    }
   ],
   "source": [
    "(8 - 3) * (2 - (1 + 1))"
   ]
  },
  {
   "cell_type": "code",
   "execution_count": 14,
   "id": "3461c3ff",
   "metadata": {
    "execution": {
     "iopub.execute_input": "2023-07-17T03:49:57.519827Z",
     "iopub.status.busy": "2023-07-17T03:49:57.519460Z",
     "iopub.status.idle": "2023-07-17T03:49:57.523615Z",
     "shell.execute_reply": "2023-07-17T03:49:57.522566Z"
    },
    "papermill": {
     "duration": 0.014761,
     "end_time": "2023-07-17T03:49:57.525610",
     "exception": false,
     "start_time": "2023-07-17T03:49:57.510849",
     "status": "completed"
    },
    "tags": []
   },
   "outputs": [],
   "source": [
    "#q3.b.hint()"
   ]
  },
  {
   "cell_type": "code",
   "execution_count": 15,
   "id": "b51d3142",
   "metadata": {
    "execution": {
     "iopub.execute_input": "2023-07-17T03:49:57.542571Z",
     "iopub.status.busy": "2023-07-17T03:49:57.541866Z",
     "iopub.status.idle": "2023-07-17T03:49:57.549704Z",
     "shell.execute_reply": "2023-07-17T03:49:57.548622Z"
    },
    "papermill": {
     "duration": 0.018735,
     "end_time": "2023-07-17T03:49:57.551729",
     "exception": false,
     "start_time": "2023-07-17T03:49:57.532994",
     "status": "completed"
    },
    "tags": []
   },
   "outputs": [
    {
     "data": {
      "application/javascript": [
       "parent.postMessage({\"jupyterEvent\": \"custom.exercise_interaction\", \"data\": {\"interactionType\": 3, \"questionType\": 4, \"questionId\": \"3.2_ArithmeticParensHard\", \"learnToolsVersion\": \"0.3.4\", \"valueTowardsCompletion\": 0.0, \"failureMessage\": \"\", \"exceptionClass\": \"\", \"trace\": \"\", \"outcomeType\": 4}}, \"*\")"
      ],
      "text/plain": [
       "<IPython.core.display.Javascript object>"
      ]
     },
     "metadata": {},
     "output_type": "display_data"
    },
    {
     "data": {
      "text/markdown": [
       "<span style=\"color:#33cc99\">Solution:</span> `(8 - 3) * (2 - (1 + 1))` is one solution. There may be others."
      ],
      "text/plain": [
       "Solution: `(8 - 3) * (2 - (1 + 1))` is one solution. There may be others."
      ]
     },
     "metadata": {},
     "output_type": "display_data"
    }
   ],
   "source": [
    "# Check your answer (Run this code cell to receive credit!)\n",
    "q3.b.solution()"
   ]
  },
  {
   "cell_type": "markdown",
   "id": "0b7c7c9c",
   "metadata": {
    "papermill": {
     "duration": 0.007378,
     "end_time": "2023-07-17T03:49:57.566993",
     "exception": false,
     "start_time": "2023-07-17T03:49:57.559615",
     "status": "completed"
    },
    "tags": []
   },
   "source": [
    "<hr/>\n",
    "\n",
    "# 4. \n",
    "Alice, Bob and Carol have agreed to pool their Halloween candy and split it evenly among themselves.\n",
    "For the sake of their friendship, any candies left over will be smashed. For example, if they collectively\n",
    "bring home 91 candies, they'll take 30 each and smash 1.\n",
    "\n",
    "Write an arithmetic expression below to calculate how many candies they must smash for a given haul."
   ]
  },
  {
   "cell_type": "code",
   "execution_count": 16,
   "id": "367b2ab6",
   "metadata": {
    "execution": {
     "iopub.execute_input": "2023-07-17T03:49:57.584413Z",
     "iopub.status.busy": "2023-07-17T03:49:57.583366Z",
     "iopub.status.idle": "2023-07-17T03:49:57.591839Z",
     "shell.execute_reply": "2023-07-17T03:49:57.590871Z"
    },
    "papermill": {
     "duration": 0.019093,
     "end_time": "2023-07-17T03:49:57.593764",
     "exception": false,
     "start_time": "2023-07-17T03:49:57.574671",
     "status": "completed"
    },
    "tags": []
   },
   "outputs": [
    {
     "data": {
      "application/javascript": [
       "parent.postMessage({\"jupyterEvent\": \"custom.exercise_interaction\", \"data\": {\"outcomeType\": 1, \"valueTowardsCompletion\": 0.25, \"interactionType\": 1, \"questionType\": 1, \"questionId\": \"4_CandySplitting\", \"learnToolsVersion\": \"0.3.4\", \"failureMessage\": \"\", \"exceptionClass\": \"\", \"trace\": \"\"}}, \"*\")"
      ],
      "text/plain": [
       "<IPython.core.display.Javascript object>"
      ]
     },
     "metadata": {},
     "output_type": "display_data"
    },
    {
     "data": {
      "text/markdown": [
       "<span style=\"color:#33cc33\">Correct</span>"
      ],
      "text/plain": [
       "Correct"
      ]
     },
     "metadata": {},
     "output_type": "display_data"
    }
   ],
   "source": [
    "# Variables representing the number of candies collected by alice, bob, and carol\n",
    "alice_candies = 121\n",
    "bob_candies = 77\n",
    "carol_candies = 109\n",
    "\n",
    "# Your code goes here! Replace the right-hand side of this assignment with an expression\n",
    "# involving alice_candies, bob_candies, and carol_candies\n",
    "to_smash = (alice_candies + bob_candies + carol_candies) % 3\n",
    "\n",
    "# Check your answer\n",
    "q4.check()"
   ]
  },
  {
   "cell_type": "code",
   "execution_count": 17,
   "id": "04266a59",
   "metadata": {
    "execution": {
     "iopub.execute_input": "2023-07-17T03:49:57.611604Z",
     "iopub.status.busy": "2023-07-17T03:49:57.610923Z",
     "iopub.status.idle": "2023-07-17T03:49:57.614544Z",
     "shell.execute_reply": "2023-07-17T03:49:57.613788Z"
    },
    "papermill": {
     "duration": 0.014725,
     "end_time": "2023-07-17T03:49:57.616382",
     "exception": false,
     "start_time": "2023-07-17T03:49:57.601657",
     "status": "completed"
    },
    "tags": []
   },
   "outputs": [],
   "source": [
    "#q4.hint()\n",
    "#q4.solution()"
   ]
  },
  {
   "cell_type": "markdown",
   "id": "2967b698",
   "metadata": {
    "papermill": {
     "duration": 0.007575,
     "end_time": "2023-07-17T03:49:57.631885",
     "exception": false,
     "start_time": "2023-07-17T03:49:57.624310",
     "status": "completed"
    },
    "tags": []
   },
   "source": [
    "# Keep Going\n",
    "\n",
    "Next up, you'll **[learn to write new functions and understand functions others write](https://www.kaggle.com/colinmorris/functions-and-getting-help)**. This will make you at least 10 times more productive as a Python programmer. "
   ]
  },
  {
   "cell_type": "markdown",
   "id": "2e4212c6",
   "metadata": {
    "papermill": {
     "duration": 0.007525,
     "end_time": "2023-07-17T03:49:57.647311",
     "exception": false,
     "start_time": "2023-07-17T03:49:57.639786",
     "status": "completed"
    },
    "tags": []
   },
   "source": [
    "---\n",
    "\n",
    "\n",
    "\n",
    "\n",
    "*Have questions or comments? Visit the [course discussion forum](https://www.kaggle.com/learn/python/discussion) to chat with other learners.*"
   ]
  }
 ],
 "metadata": {
  "kernelspec": {
   "display_name": "Python 3",
   "language": "python",
   "name": "python3"
  },
  "language_info": {
   "codemirror_mode": {
    "name": "ipython",
    "version": 3
   },
   "file_extension": ".py",
   "mimetype": "text/x-python",
   "name": "python",
   "nbconvert_exporter": "python",
   "pygments_lexer": "ipython3",
   "version": "3.10.12"
  },
  "papermill": {
   "default_parameters": {},
   "duration": 10.702903,
   "end_time": "2023-07-17T03:49:58.476398",
   "environment_variables": {},
   "exception": null,
   "input_path": "__notebook__.ipynb",
   "output_path": "__notebook__.ipynb",
   "parameters": {},
   "start_time": "2023-07-17T03:49:47.773495",
   "version": "2.4.0"
  }
 },
 "nbformat": 4,
 "nbformat_minor": 5
}
