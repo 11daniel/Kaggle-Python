{
 "cells": [
  {
   "cell_type": "markdown",
   "id": "c71c39cf",
   "metadata": {
    "papermill": {
     "duration": 0.006052,
     "end_time": "2023-10-26T13:13:17.038108",
     "exception": false,
     "start_time": "2023-10-26T13:13:17.032056",
     "status": "completed"
    },
    "tags": []
   },
   "source": [
    "**This notebook is an exercise in the [Python](https://www.kaggle.com/learn/python) course.  You can reference the tutorial at [this link](https://www.kaggle.com/colinmorris/functions-and-getting-help).**\n",
    "\n",
    "---\n"
   ]
  },
  {
   "cell_type": "markdown",
   "id": "58d25df4",
   "metadata": {
    "papermill": {
     "duration": 0.005834,
     "end_time": "2023-10-26T13:13:17.052199",
     "exception": false,
     "start_time": "2023-10-26T13:13:17.046365",
     "status": "completed"
    },
    "tags": []
   },
   "source": [
    "Functions are powerful. Try writing some yourself.\n",
    "\n",
    "As before, don't forget to run the setup code below before jumping into question 1."
   ]
  },
  {
   "cell_type": "code",
   "execution_count": 1,
   "id": "e9295958",
   "metadata": {
    "_kg_hide-input": true,
    "_kg_hide-output": true,
    "execution": {
     "iopub.execute_input": "2023-10-26T13:13:17.067573Z",
     "iopub.status.busy": "2023-10-26T13:13:17.067083Z",
     "iopub.status.idle": "2023-10-26T13:13:17.569341Z",
     "shell.execute_reply": "2023-10-26T13:13:17.567640Z"
    },
    "papermill": {
     "duration": 0.513061,
     "end_time": "2023-10-26T13:13:17.572156",
     "exception": false,
     "start_time": "2023-10-26T13:13:17.059095",
     "status": "completed"
    },
    "tags": []
   },
   "outputs": [
    {
     "name": "stdout",
     "output_type": "stream",
     "text": [
      "Setup complete.\n"
     ]
    }
   ],
   "source": [
    "# SETUP. You don't need to worry for now about what this code does or how it works.\n",
    "from learntools.core import binder; binder.bind(globals())\n",
    "from learntools.python.ex2 import *\n",
    "print('Setup complete.')"
   ]
  },
  {
   "cell_type": "markdown",
   "id": "5849689f",
   "metadata": {
    "papermill": {
     "duration": 0.005501,
     "end_time": "2023-10-26T13:13:17.583818",
     "exception": false,
     "start_time": "2023-10-26T13:13:17.578317",
     "status": "completed"
    },
    "tags": []
   },
   "source": [
    "# 1.\n",
    "\n",
    "Complete the body of the following function according to its docstring.\n",
    "\n",
    "HINT: Python has a built-in function `round`."
   ]
  },
  {
   "cell_type": "code",
   "execution_count": 2,
   "id": "d45e5531",
   "metadata": {
    "execution": {
     "iopub.execute_input": "2023-10-26T13:13:17.598562Z",
     "iopub.status.busy": "2023-10-26T13:13:17.597632Z",
     "iopub.status.idle": "2023-10-26T13:13:17.609159Z",
     "shell.execute_reply": "2023-10-26T13:13:17.608191Z"
    },
    "papermill": {
     "duration": 0.022034,
     "end_time": "2023-10-26T13:13:17.612223",
     "exception": false,
     "start_time": "2023-10-26T13:13:17.590189",
     "status": "completed"
    },
    "tags": []
   },
   "outputs": [
    {
     "data": {
      "application/javascript": [
       "parent.postMessage({\"jupyterEvent\": \"custom.exercise_interaction\", \"data\": {\"outcomeType\": 1, \"valueTowardsCompletion\": 0.16666666666666666, \"interactionType\": 1, \"questionType\": 2, \"questionId\": \"1_RoundFunctionProblem\", \"learnToolsVersion\": \"0.3.4\", \"failureMessage\": \"\", \"exceptionClass\": \"\", \"trace\": \"\"}}, \"*\")"
      ],
      "text/plain": [
       "<IPython.core.display.Javascript object>"
      ]
     },
     "metadata": {},
     "output_type": "display_data"
    },
    {
     "data": {
      "text/markdown": [
       "<span style=\"color:#33cc33\">Correct</span>"
      ],
      "text/plain": [
       "Correct"
      ]
     },
     "metadata": {},
     "output_type": "display_data"
    }
   ],
   "source": [
    "def round_to_two_places(num):\n",
    "    \"\"\"Return the given number rounded to two decimal places. \n",
    "    \n",
    "    >>> round_to_two_places(3.14159)\n",
    "    3.14\n",
    "    \"\"\"\n",
    "    # Replace this body with your own code.\n",
    "    # (\"pass\" is a keyword that does literally nothing. We used it as a placeholder\n",
    "    # because after we begin a code block, Python requires at least one line of code)\n",
    "    return round(num, 2)\n",
    "\n",
    "# Check your answer\n",
    "q1.check()"
   ]
  },
  {
   "cell_type": "code",
   "execution_count": 3,
   "id": "e0c6b707",
   "metadata": {
    "execution": {
     "iopub.execute_input": "2023-10-26T13:13:17.627035Z",
     "iopub.status.busy": "2023-10-26T13:13:17.626576Z",
     "iopub.status.idle": "2023-10-26T13:13:17.631598Z",
     "shell.execute_reply": "2023-10-26T13:13:17.630404Z"
    },
    "papermill": {
     "duration": 0.015596,
     "end_time": "2023-10-26T13:13:17.634415",
     "exception": false,
     "start_time": "2023-10-26T13:13:17.618819",
     "status": "completed"
    },
    "tags": []
   },
   "outputs": [],
   "source": [
    "# Uncomment the following for a hint\n",
    "#q1.hint()\n",
    "# Or uncomment the following to peek at the solution\n",
    "#q1.solution()"
   ]
  },
  {
   "cell_type": "markdown",
   "id": "fe598831",
   "metadata": {
    "papermill": {
     "duration": 0.006117,
     "end_time": "2023-10-26T13:13:17.647359",
     "exception": false,
     "start_time": "2023-10-26T13:13:17.641242",
     "status": "completed"
    },
    "tags": []
   },
   "source": [
    "# 2.\n",
    "The help for `round` says that `ndigits` (the second argument) may be negative.\n",
    "What do you think will happen when it is? Try some examples in the following cell."
   ]
  },
  {
   "cell_type": "code",
   "execution_count": 4,
   "id": "93c9db19",
   "metadata": {
    "execution": {
     "iopub.execute_input": "2023-10-26T13:13:17.663205Z",
     "iopub.status.busy": "2023-10-26T13:13:17.661958Z",
     "iopub.status.idle": "2023-10-26T13:13:17.667817Z",
     "shell.execute_reply": "2023-10-26T13:13:17.666434Z"
    },
    "papermill": {
     "duration": 0.01701,
     "end_time": "2023-10-26T13:13:17.670874",
     "exception": false,
     "start_time": "2023-10-26T13:13:17.653864",
     "status": "completed"
    },
    "tags": []
   },
   "outputs": [],
   "source": [
    "# Put your test code here"
   ]
  },
  {
   "cell_type": "markdown",
   "id": "67420449",
   "metadata": {
    "papermill": {
     "duration": 0.007137,
     "end_time": "2023-10-26T13:13:17.684580",
     "exception": false,
     "start_time": "2023-10-26T13:13:17.677443",
     "status": "completed"
    },
    "tags": []
   },
   "source": [
    "Can you think of a case where this would be useful?  Once you're ready, run the code cell below to see the answer and to receive credit for completing the problem."
   ]
  },
  {
   "cell_type": "code",
   "execution_count": 5,
   "id": "29c5dd4a",
   "metadata": {
    "execution": {
     "iopub.execute_input": "2023-10-26T13:13:17.700459Z",
     "iopub.status.busy": "2023-10-26T13:13:17.699389Z",
     "iopub.status.idle": "2023-10-26T13:13:17.708804Z",
     "shell.execute_reply": "2023-10-26T13:13:17.707359Z"
    },
    "papermill": {
     "duration": 0.020098,
     "end_time": "2023-10-26T13:13:17.711600",
     "exception": false,
     "start_time": "2023-10-26T13:13:17.691502",
     "status": "completed"
    },
    "tags": []
   },
   "outputs": [
    {
     "data": {
      "application/javascript": [
       "parent.postMessage({\"jupyterEvent\": \"custom.exercise_interaction\", \"data\": {\"interactionType\": 3, \"questionType\": 4, \"questionId\": \"2_RoundNdigitsProblem\", \"learnToolsVersion\": \"0.3.4\", \"valueTowardsCompletion\": 0.0, \"failureMessage\": \"\", \"exceptionClass\": \"\", \"trace\": \"\", \"outcomeType\": 4}}, \"*\")"
      ],
      "text/plain": [
       "<IPython.core.display.Javascript object>"
      ]
     },
     "metadata": {},
     "output_type": "display_data"
    },
    {
     "data": {
      "text/markdown": [
       "<span style=\"color:#33cc99\">Solution:</span> As you've seen, `ndigits=-1` rounds to the nearest 10, `ndigits=-2` rounds to the nearest 100 and so on. Where might this be useful? Suppose we're dealing with large numbers:\n",
       "\n",
       "> The area of Finland is 338,424 km²  \n",
       "> The area of Greenland is 2,166,086 km²\n",
       "\n",
       "We probably don't care whether it's really 338,424, or 338,425, or 338,177. All those digits of accuracy are just distracting. We can chop them off by calling `round()` with `ndigits=-3`:\n",
       "\n",
       "> The area of Finland is 338,000 km²  \n",
       "> The area of Greenland is 2,166,000 km²\n",
       "\n",
       "(We'll talk about how we would get the commas later when we talk about string formatting :))\n"
      ],
      "text/plain": [
       "Solution: As you've seen, `ndigits=-1` rounds to the nearest 10, `ndigits=-2` rounds to the nearest 100 and so on. Where might this be useful? Suppose we're dealing with large numbers:\n",
       "\n",
       "> The area of Finland is 338,424 km²  \n",
       "> The area of Greenland is 2,166,086 km²\n",
       "\n",
       "We probably don't care whether it's really 338,424, or 338,425, or 338,177. All those digits of accuracy are just distracting. We can chop them off by calling `round()` with `ndigits=-3`:\n",
       "\n",
       "> The area of Finland is 338,000 km²  \n",
       "> The area of Greenland is 2,166,000 km²\n",
       "\n",
       "(We'll talk about how we would get the commas later when we talk about string formatting :))"
      ]
     },
     "metadata": {},
     "output_type": "display_data"
    }
   ],
   "source": [
    "# Check your answer (Run this code cell to receive credit!)\n",
    "q2.solution()"
   ]
  },
  {
   "cell_type": "markdown",
   "id": "a4839a8c",
   "metadata": {
    "papermill": {
     "duration": 0.006606,
     "end_time": "2023-10-26T13:13:17.725346",
     "exception": false,
     "start_time": "2023-10-26T13:13:17.718740",
     "status": "completed"
    },
    "tags": []
   },
   "source": [
    "# 3.\n",
    "\n",
    "In the previous exercise, the candy-sharing friends Alice, Bob and Carol tried to split candies evenly. For the sake of their friendship, any candies left over would be smashed. For example, if they collectively bring home 91 candies, they'll take 30 each and smash 1.\n",
    "\n",
    "Below is a simple function that will calculate the number of candies to smash for *any* number of total candies.\n",
    "\n",
    "Modify it so that it optionally takes a second argument representing the number of friends the candies are being split between. If no second argument is provided, it should assume 3 friends, as before.\n",
    "\n",
    "Update the docstring to reflect this new behaviour."
   ]
  },
  {
   "cell_type": "code",
   "execution_count": 6,
   "id": "b9f55348",
   "metadata": {
    "execution": {
     "iopub.execute_input": "2023-10-26T13:13:17.742453Z",
     "iopub.status.busy": "2023-10-26T13:13:17.742030Z",
     "iopub.status.idle": "2023-10-26T13:13:17.752579Z",
     "shell.execute_reply": "2023-10-26T13:13:17.751402Z"
    },
    "papermill": {
     "duration": 0.022892,
     "end_time": "2023-10-26T13:13:17.755233",
     "exception": false,
     "start_time": "2023-10-26T13:13:17.732341",
     "status": "completed"
    },
    "tags": []
   },
   "outputs": [
    {
     "data": {
      "application/javascript": [
       "parent.postMessage({\"jupyterEvent\": \"custom.exercise_interaction\", \"data\": {\"outcomeType\": 1, \"valueTowardsCompletion\": 0.16666666666666666, \"interactionType\": 1, \"questionType\": 2, \"questionId\": \"3_CandySmashingFunctionProblem\", \"learnToolsVersion\": \"0.3.4\", \"failureMessage\": \"\", \"exceptionClass\": \"\", \"trace\": \"\"}}, \"*\")"
      ],
      "text/plain": [
       "<IPython.core.display.Javascript object>"
      ]
     },
     "metadata": {},
     "output_type": "display_data"
    },
    {
     "data": {
      "text/markdown": [
       "<span style=\"color:#33cc33\">Correct</span>"
      ],
      "text/plain": [
       "Correct"
      ]
     },
     "metadata": {},
     "output_type": "display_data"
    }
   ],
   "source": [
    "def to_smash(total_candies,n_friends=3):\n",
    "    \"\"\"Return the number of leftover candies that must be smashed after distributing\n",
    "    the given number of candies evenly between 3 friends.\n",
    "    \n",
    "    >>> to_smash(91,3)\n",
    "    1\n",
    "    \"\"\"\n",
    "    return total_candies % n_friends\n",
    "\n",
    "# Check your answer\n",
    "q3.check()"
   ]
  },
  {
   "cell_type": "code",
   "execution_count": 7,
   "id": "81a82020",
   "metadata": {
    "execution": {
     "iopub.execute_input": "2023-10-26T13:13:17.772423Z",
     "iopub.status.busy": "2023-10-26T13:13:17.772030Z",
     "iopub.status.idle": "2023-10-26T13:13:17.776943Z",
     "shell.execute_reply": "2023-10-26T13:13:17.775547Z"
    },
    "papermill": {
     "duration": 0.016822,
     "end_time": "2023-10-26T13:13:17.779469",
     "exception": false,
     "start_time": "2023-10-26T13:13:17.762647",
     "status": "completed"
    },
    "tags": []
   },
   "outputs": [],
   "source": [
    "#q3.hint()"
   ]
  },
  {
   "cell_type": "code",
   "execution_count": 8,
   "id": "298f5b1e",
   "metadata": {
    "execution": {
     "iopub.execute_input": "2023-10-26T13:13:17.799174Z",
     "iopub.status.busy": "2023-10-26T13:13:17.797786Z",
     "iopub.status.idle": "2023-10-26T13:13:17.804115Z",
     "shell.execute_reply": "2023-10-26T13:13:17.802874Z"
    },
    "papermill": {
     "duration": 0.019183,
     "end_time": "2023-10-26T13:13:17.806798",
     "exception": false,
     "start_time": "2023-10-26T13:13:17.787615",
     "status": "completed"
    },
    "tags": []
   },
   "outputs": [],
   "source": [
    "#q3.solution()"
   ]
  },
  {
   "cell_type": "markdown",
   "id": "ade0cbba",
   "metadata": {
    "papermill": {
     "duration": 0.007397,
     "end_time": "2023-10-26T13:13:17.823106",
     "exception": false,
     "start_time": "2023-10-26T13:13:17.815709",
     "status": "completed"
    },
    "tags": []
   },
   "source": [
    "# 4. (Optional)\n",
    "\n",
    "It may not be fun, but reading and understanding error messages will be an important part of your Python career.\n",
    "\n",
    "Each code cell below contains some commented buggy code. For each cell...\n",
    "\n",
    "1. Read the code and predict what you think will happen when it's run.\n",
    "2. Then uncomment the code and run it to see what happens. (**Tip**: In the kernel editor, you can highlight several lines and press `ctrl`+`/` to toggle commenting.)\n",
    "3. Fix the code (so that it accomplishes its intended purpose without throwing an exception)\n",
    "\n",
    "<!-- TODO: should this be autochecked? Delta is probably pretty small. -->"
   ]
  },
  {
   "cell_type": "code",
   "execution_count": 9,
   "id": "1603e6ac",
   "metadata": {
    "execution": {
     "iopub.execute_input": "2023-10-26T13:13:17.840090Z",
     "iopub.status.busy": "2023-10-26T13:13:17.839660Z",
     "iopub.status.idle": "2023-10-26T13:13:17.847401Z",
     "shell.execute_reply": "2023-10-26T13:13:17.846022Z"
    },
    "papermill": {
     "duration": 0.019508,
     "end_time": "2023-10-26T13:13:17.850145",
     "exception": false,
     "start_time": "2023-10-26T13:13:17.830637",
     "status": "completed"
    },
    "tags": []
   },
   "outputs": [
    {
     "data": {
      "text/plain": [
       "10.0"
      ]
     },
     "execution_count": 9,
     "metadata": {},
     "output_type": "execute_result"
    }
   ],
   "source": [
    "round(9.9999, 2)"
   ]
  },
  {
   "cell_type": "code",
   "execution_count": 10,
   "id": "bc106793",
   "metadata": {
    "execution": {
     "iopub.execute_input": "2023-10-26T13:13:17.869872Z",
     "iopub.status.busy": "2023-10-26T13:13:17.869321Z",
     "iopub.status.idle": "2023-10-26T13:13:17.875589Z",
     "shell.execute_reply": "2023-10-26T13:13:17.874395Z"
    },
    "papermill": {
     "duration": 0.019508,
     "end_time": "2023-10-26T13:13:17.878183",
     "exception": false,
     "start_time": "2023-10-26T13:13:17.858675",
     "status": "completed"
    },
    "tags": []
   },
   "outputs": [],
   "source": [
    "x = -10\n",
    "y = 5\n",
    "# # Which of the two variables above has the smallest absolute value?\n",
    "smallest_abs = min(abs(x), abs(y))"
   ]
  },
  {
   "cell_type": "code",
   "execution_count": 11,
   "id": "c30550f2",
   "metadata": {
    "execution": {
     "iopub.execute_input": "2023-10-26T13:13:17.895631Z",
     "iopub.status.busy": "2023-10-26T13:13:17.895230Z",
     "iopub.status.idle": "2023-10-26T13:13:17.902961Z",
     "shell.execute_reply": "2023-10-26T13:13:17.901335Z"
    },
    "papermill": {
     "duration": 0.019434,
     "end_time": "2023-10-26T13:13:17.905473",
     "exception": false,
     "start_time": "2023-10-26T13:13:17.886039",
     "status": "completed"
    },
    "tags": []
   },
   "outputs": [
    {
     "name": "stdout",
     "output_type": "stream",
     "text": [
      "5\n"
     ]
    }
   ],
   "source": [
    "def f(x):\n",
    "    y = abs(x)\n",
    "    return y\n",
    "\n",
    "print(f(5))"
   ]
  },
  {
   "cell_type": "markdown",
   "id": "5689f13b",
   "metadata": {
    "papermill": {
     "duration": 0.007579,
     "end_time": "2023-10-26T13:13:17.920948",
     "exception": false,
     "start_time": "2023-10-26T13:13:17.913369",
     "status": "completed"
    },
    "tags": []
   },
   "source": [
    "# Keep Going\n",
    "\n",
    "Nice job with the code. Next up, you'll learn about *conditionals*, which you'll need to **[write interesting programs](https://www.kaggle.com/colinmorris/booleans-and-conditionals)**. "
   ]
  },
  {
   "cell_type": "markdown",
   "id": "30311490",
   "metadata": {
    "papermill": {
     "duration": 0.007603,
     "end_time": "2023-10-26T13:13:17.936462",
     "exception": false,
     "start_time": "2023-10-26T13:13:17.928859",
     "status": "completed"
    },
    "tags": []
   },
   "source": [
    "---\n",
    "\n",
    "\n",
    "\n",
    "\n",
    "*Have questions or comments? Visit the [course discussion forum](https://www.kaggle.com/learn/python/discussion) to chat with other learners.*"
   ]
  }
 ],
 "metadata": {
  "kernelspec": {
   "display_name": "Python 3",
   "language": "python",
   "name": "python3"
  },
  "language_info": {
   "codemirror_mode": {
    "name": "ipython",
    "version": 3
   },
   "file_extension": ".py",
   "mimetype": "text/x-python",
   "name": "python",
   "nbconvert_exporter": "python",
   "pygments_lexer": "ipython3",
   "version": "3.10.12"
  },
  "papermill": {
   "default_parameters": {},
   "duration": 5.571278,
   "end_time": "2023-10-26T13:13:18.465504",
   "environment_variables": {},
   "exception": null,
   "input_path": "__notebook__.ipynb",
   "output_path": "__notebook__.ipynb",
   "parameters": {},
   "start_time": "2023-10-26T13:13:12.894226",
   "version": "2.4.0"
  }
 },
 "nbformat": 4,
 "nbformat_minor": 5
}
